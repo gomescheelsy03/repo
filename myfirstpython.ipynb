{
  "nbformat": 4,
  "nbformat_minor": 0,
  "metadata": {
    "colab": {
      "provenance": [],
      "authorship_tag": "ABX9TyP5LjCp1yWqD9m7oPtz/SGg",
      "include_colab_link": true
    },
    "kernelspec": {
      "name": "python3",
      "display_name": "Python 3"
    },
    "language_info": {
      "name": "python"
    }
  },
  "cells": [
    {
      "cell_type": "markdown",
      "metadata": {
        "id": "view-in-github",
        "colab_type": "text"
      },
      "source": [
        "<a href=\"https://colab.research.google.com/github/gomescheelsy03/repo/blob/main/myfirstpython.ipynb\" target=\"_parent\"><img src=\"https://colab.research.google.com/assets/colab-badge.svg\" alt=\"Open In Colab\"/></a>"
      ]
    },
    {
      "cell_type": "code",
      "execution_count": 1,
      "metadata": {
        "colab": {
          "base_uri": "https://localhost:8080/"
        },
        "id": "MvpXSdos8gRZ",
        "outputId": "9502ef2a-fab3-48b3-801a-e6c2cf2dcb21"
      },
      "outputs": [
        {
          "output_type": "stream",
          "name": "stdout",
          "text": [
            "x is equal to 10\n",
            "x is a positive number greater than 5\n"
          ]
        }
      ],
      "source": [
        "# Defining a variable with a numerical value\n",
        "x = 10\n",
        "\n",
        "# If statement: Checking if x is greater than 10\n",
        "if x > 10:\n",
        "    print(\"x is greater than 10\")\n",
        "# Elif (else if) statement: Checking if x is equal to 10\n",
        "elif x == 10:\n",
        "    print(\"x is equal to 10\")\n",
        "# Else statement: Executed if none of the above conditions are met\n",
        "else:\n",
        "    print(\"x is less than 10\")\n",
        "\n",
        "# Nested conditional statement: Checking multiple conditions within a condition\n",
        "if x >= 0:\n",
        "    if x > 5:\n",
        "        print(\"x is a positive number greater than 5\")\n",
        "    else:\n",
        "        print(\"x is a positive number less than or equal to 5\")\n",
        "else:\n",
        "    print(\"x is a negative number\")\n"
      ]
    }
  ]
}